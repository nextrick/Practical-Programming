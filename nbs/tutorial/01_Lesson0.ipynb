{
 "cells": [
  {
   "cell_type": "markdown",
   "id": "4af0da6a",
   "metadata": {},
   "source": [
    "# Lesson0-start"
   ]
  },
  {
   "cell_type": "markdown",
   "id": "4a751a50",
   "metadata": {},
   "source": [
    "This is Introductory video about this course. We have first look to how to create a classification system with fastai.\n",
    "\n",
    "### Video \n",
    "\n",
    "\n",
    "\n",
    "<iframe width=\"560\" height=\"315\" src=\"https://www.youtube.com/embed/cJM3GxWtXR0\" title=\"YouTube video player\" frameborder=\"0\" allow=\"accelerometer; autoplay; clipboard-write; encrypted-media; gyroscope; picture-in-picture\" allowfullscreen></iframe>\n",
    "\n",
    "\n",
    "###  Highlights\n",
    "\n",
    "Following were the highlight's:\n",
    "\n",
    "1. Remaking Fastai Course Practical Deep Learning 2022 \n",
    "[Origianl Course]( https://course.fast.ai/ )\n",
    "\n",
    "\n",
    "\n",
    "\n",
    "### Resources :\n",
    "\n",
    "1. [Slides](https://docs.google.com/presentation/d/11uSXnUAADl50YHXhRt-hypaXHGOztzffJiUr4igJ9qg/edit)\n",
    "\n",
    "\n",
    "<br>\n",
    "<a href=\"https://hafizahmadhassan.github.io/mynbdev_cards/index.html\" style=\"text-align:left;color: blue;\n",
    "\">\n",
    "<== Homepage</a> \n",
    "&nbsp;\n",
    "&nbsp;\n",
    "&nbsp;\n",
    "&nbsp;\n",
    "&nbsp;\n",
    "&nbsp;\n",
    "&nbsp;\n",
    "&nbsp;\n",
    "&nbsp;\n",
    "&nbsp;\n",
    "&nbsp;\n",
    "&nbsp;\n",
    "&nbsp;\n",
    "&nbsp;\n",
    "&nbsp;\n",
    "&nbsp;\n",
    "&nbsp;\n",
    "&nbsp;\n",
    "&nbsp;\n",
    "&nbsp;\n",
    "&nbsp;\n",
    "&nbsp;\n",
    "&nbsp;\n",
    "&nbsp;\n",
    "<a href=\"https://hafizahmadhassan.github.io/mynbdev_cards/lesson1-part1.html\" style=\"text-align:right;color: blue;\n",
    "\">Lesson1-Part1 ==></a> \n",
    "\n",
    "\n",
    "\n",
    "## Acknowledgements\n",
    "\n",
    "Special Thanks to @Jeremy Howard"
   ]
  },
  {
   "cell_type": "markdown",
   "id": "9030eadd",
   "metadata": {},
   "source": []
  }
 ],
 "metadata": {
  "kernelspec": {
   "display_name": "Python 3.10.6 64-bit",
   "language": "python",
   "name": "python3"
  },
  "language_info": {
   "codemirror_mode": {
    "name": "ipython",
    "version": 3
   },
   "file_extension": ".py",
   "mimetype": "text/x-python",
   "name": "python",
   "nbconvert_exporter": "python",
   "pygments_lexer": "ipython3",
   "version": "3.11.2"
  },
  "vscode": {
   "interpreter": {
    "hash": "aee8b7b246df8f9039afb4144a1f6fd8d2ca17a180786b69acc140d282b71a49"
   }
  }
 },
 "nbformat": 4,
 "nbformat_minor": 5
}
